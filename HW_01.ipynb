{
 "cells": [
  {
   "cell_type": "markdown",
   "metadata": {
    "collapsed": true
   },
   "source": [
    "# HW_01\n",
    "\n",
    "## 1. 抓Nasdaq股價"
   ]
  },
  {
   "cell_type": "code",
   "execution_count": 1,
   "metadata": {
    "collapsed": true
   },
   "outputs": [],
   "source": [
    "import pandas as pd"
   ]
  },
  {
   "cell_type": "code",
   "execution_count": 2,
   "metadata": {
    "collapsed": true
   },
   "outputs": [],
   "source": [
    "url = 'http://www.nasdaq.com/screening/companies-by-industry.aspx?exchange=NASDAQ&render=download'\n",
    "data = pd.read_csv(url)"
   ]
  },
  {
   "cell_type": "code",
   "execution_count": 3,
   "metadata": {},
   "outputs": [
    {
     "data": {
      "text/html": [
       "<div>\n",
       "<style>\n",
       "    .dataframe thead tr:only-child th {\n",
       "        text-align: right;\n",
       "    }\n",
       "\n",
       "    .dataframe thead th {\n",
       "        text-align: left;\n",
       "    }\n",
       "\n",
       "    .dataframe tbody tr th {\n",
       "        vertical-align: top;\n",
       "    }\n",
       "</style>\n",
       "<table border=\"1\" class=\"dataframe\">\n",
       "  <thead>\n",
       "    <tr style=\"text-align: right;\">\n",
       "      <th></th>\n",
       "      <th>Symbol</th>\n",
       "      <th>Name</th>\n",
       "      <th>LastSale</th>\n",
       "      <th>MarketCap</th>\n",
       "      <th>ADR TSO</th>\n",
       "      <th>IPOyear</th>\n",
       "      <th>Sector</th>\n",
       "      <th>Industry</th>\n",
       "      <th>Summary Quote</th>\n",
       "      <th>Unnamed: 9</th>\n",
       "    </tr>\n",
       "  </thead>\n",
       "  <tbody>\n",
       "    <tr>\n",
       "      <th>3293</th>\n",
       "      <td>ZGNX</td>\n",
       "      <td>Zogenix, Inc.</td>\n",
       "      <td>37.55</td>\n",
       "      <td>9.327826e+08</td>\n",
       "      <td>n/a</td>\n",
       "      <td>2010</td>\n",
       "      <td>Health Care</td>\n",
       "      <td>Major Pharmaceuticals</td>\n",
       "      <td>http://www.nasdaq.com/symbol/zgnx</td>\n",
       "      <td>NaN</td>\n",
       "    </tr>\n",
       "    <tr>\n",
       "      <th>3294</th>\n",
       "      <td>ZSAN</td>\n",
       "      <td>Zosano Pharma Corporation</td>\n",
       "      <td>0.675</td>\n",
       "      <td>2.648032e+07</td>\n",
       "      <td>n/a</td>\n",
       "      <td>2015</td>\n",
       "      <td>Health Care</td>\n",
       "      <td>Major Pharmaceuticals</td>\n",
       "      <td>http://www.nasdaq.com/symbol/zsan</td>\n",
       "      <td>NaN</td>\n",
       "    </tr>\n",
       "    <tr>\n",
       "      <th>3295</th>\n",
       "      <td>ZUMZ</td>\n",
       "      <td>Zumiez Inc.</td>\n",
       "      <td>17.1</td>\n",
       "      <td>4.314427e+08</td>\n",
       "      <td>n/a</td>\n",
       "      <td>2005</td>\n",
       "      <td>Consumer Services</td>\n",
       "      <td>Clothing/Shoe/Accessory Stores</td>\n",
       "      <td>http://www.nasdaq.com/symbol/zumz</td>\n",
       "      <td>NaN</td>\n",
       "    </tr>\n",
       "    <tr>\n",
       "      <th>3296</th>\n",
       "      <td>ZYNE</td>\n",
       "      <td>Zynerba Pharmaceuticals, Inc.</td>\n",
       "      <td>10.9</td>\n",
       "      <td>1.445043e+08</td>\n",
       "      <td>n/a</td>\n",
       "      <td>2015</td>\n",
       "      <td>Health Care</td>\n",
       "      <td>Major Pharmaceuticals</td>\n",
       "      <td>http://www.nasdaq.com/symbol/zyne</td>\n",
       "      <td>NaN</td>\n",
       "    </tr>\n",
       "    <tr>\n",
       "      <th>3297</th>\n",
       "      <td>ZNGA</td>\n",
       "      <td>Zynga Inc.</td>\n",
       "      <td>3.83</td>\n",
       "      <td>3.314715e+09</td>\n",
       "      <td>n/a</td>\n",
       "      <td>2011</td>\n",
       "      <td>Technology</td>\n",
       "      <td>EDP Services</td>\n",
       "      <td>http://www.nasdaq.com/symbol/znga</td>\n",
       "      <td>NaN</td>\n",
       "    </tr>\n",
       "  </tbody>\n",
       "</table>\n",
       "</div>"
      ],
      "text/plain": [
       "     Symbol                           Name LastSale     MarketCap ADR TSO  \\\n",
       "3293   ZGNX                  Zogenix, Inc.    37.55  9.327826e+08     n/a   \n",
       "3294   ZSAN      Zosano Pharma Corporation    0.675  2.648032e+07     n/a   \n",
       "3295   ZUMZ                    Zumiez Inc.     17.1  4.314427e+08     n/a   \n",
       "3296   ZYNE  Zynerba Pharmaceuticals, Inc.     10.9  1.445043e+08     n/a   \n",
       "3297   ZNGA                     Zynga Inc.     3.83  3.314715e+09     n/a   \n",
       "\n",
       "     IPOyear             Sector                        Industry  \\\n",
       "3293    2010        Health Care           Major Pharmaceuticals   \n",
       "3294    2015        Health Care           Major Pharmaceuticals   \n",
       "3295    2005  Consumer Services  Clothing/Shoe/Accessory Stores   \n",
       "3296    2015        Health Care           Major Pharmaceuticals   \n",
       "3297    2011         Technology                    EDP Services   \n",
       "\n",
       "                          Summary Quote  Unnamed: 9  \n",
       "3293  http://www.nasdaq.com/symbol/zgnx         NaN  \n",
       "3294  http://www.nasdaq.com/symbol/zsan         NaN  \n",
       "3295  http://www.nasdaq.com/symbol/zumz         NaN  \n",
       "3296  http://www.nasdaq.com/symbol/zyne         NaN  \n",
       "3297  http://www.nasdaq.com/symbol/znga         NaN  "
      ]
     },
     "execution_count": 3,
     "metadata": {},
     "output_type": "execute_result"
    }
   ],
   "source": [
    "data.tail()"
   ]
  },
  {
   "cell_type": "markdown",
   "metadata": {},
   "source": [
    "## 2. 畫中山大學管理學院地圖"
   ]
  },
  {
   "cell_type": "code",
   "execution_count": 4,
   "metadata": {},
   "outputs": [
    {
     "name": "stdout",
     "output_type": "stream",
     "text": [
      "Requirement already satisfied: folium in c:\\users\\lllll\\anaconda3\\lib\\site-packages\n",
      "Requirement already satisfied: requests in c:\\users\\lllll\\anaconda3\\lib\\site-packages (from folium)\n",
      "Requirement already satisfied: branca in c:\\users\\lllll\\anaconda3\\lib\\site-packages (from folium)\n",
      "Requirement already satisfied: six in c:\\users\\lllll\\anaconda3\\lib\\site-packages (from folium)\n",
      "Requirement already satisfied: jinja2 in c:\\users\\lllll\\anaconda3\\lib\\site-packages (from folium)\n",
      "Requirement already satisfied: chardet<3.1.0,>=3.0.2 in c:\\users\\lllll\\anaconda3\\lib\\site-packages (from requests->folium)\n",
      "Requirement already satisfied: idna<2.7,>=2.5 in c:\\users\\lllll\\anaconda3\\lib\\site-packages (from requests->folium)\n",
      "Requirement already satisfied: urllib3<1.23,>=1.21.1 in c:\\users\\lllll\\anaconda3\\lib\\site-packages (from requests->folium)\n",
      "Requirement already satisfied: certifi>=2017.4.17 in c:\\users\\lllll\\anaconda3\\lib\\site-packages (from requests->folium)\n",
      "Requirement already satisfied: MarkupSafe>=0.23 in c:\\users\\lllll\\anaconda3\\lib\\site-packages (from jinja2->folium)\n"
     ]
    }
   ],
   "source": [
    "!pip install folium"
   ]
  },
  {
   "cell_type": "code",
   "execution_count": 5,
   "metadata": {
    "collapsed": true
   },
   "outputs": [],
   "source": [
    "import folium"
   ]
  },
  {
   "cell_type": "code",
   "execution_count": 6,
   "metadata": {},
   "outputs": [
    {
     "name": "stdout",
     "output_type": "stream",
     "text": [
      "Requirement already satisfied: geocoder in c:\\users\\lllll\\anaconda3\\lib\\site-packages\n",
      "Requirement already satisfied: six in c:\\users\\lllll\\anaconda3\\lib\\site-packages (from geocoder)\n",
      "Requirement already satisfied: click in c:\\users\\lllll\\anaconda3\\lib\\site-packages (from geocoder)\n",
      "Requirement already satisfied: requests in c:\\users\\lllll\\anaconda3\\lib\\site-packages (from geocoder)\n",
      "Requirement already satisfied: ratelim in c:\\users\\lllll\\anaconda3\\lib\\site-packages (from geocoder)\n",
      "Requirement already satisfied: chardet<3.1.0,>=3.0.2 in c:\\users\\lllll\\anaconda3\\lib\\site-packages (from requests->geocoder)\n",
      "Requirement already satisfied: idna<2.7,>=2.5 in c:\\users\\lllll\\anaconda3\\lib\\site-packages (from requests->geocoder)\n",
      "Requirement already satisfied: urllib3<1.23,>=1.21.1 in c:\\users\\lllll\\anaconda3\\lib\\site-packages (from requests->geocoder)\n",
      "Requirement already satisfied: certifi>=2017.4.17 in c:\\users\\lllll\\anaconda3\\lib\\site-packages (from requests->geocoder)\n",
      "Requirement already satisfied: decorator in c:\\users\\lllll\\anaconda3\\lib\\site-packages (from ratelim->geocoder)\n"
     ]
    }
   ],
   "source": [
    "!pip install geocoder"
   ]
  },
  {
   "cell_type": "code",
   "execution_count": 7,
   "metadata": {
    "collapsed": true
   },
   "outputs": [],
   "source": [
    "import geocoder"
   ]
  },
  {
   "cell_type": "code",
   "execution_count": 8,
   "metadata": {
    "collapsed": true
   },
   "outputs": [],
   "source": [
    "location = geocoder.google('中山大學管理學院').latlng"
   ]
  },
  {
   "cell_type": "code",
   "execution_count": 9,
   "metadata": {},
   "outputs": [
    {
     "data": {
      "text/plain": [
       "[22.627447, 120.265274]"
      ]
     },
     "execution_count": 9,
     "metadata": {},
     "output_type": "execute_result"
    }
   ],
   "source": [
    "location"
   ]
  },
  {
   "cell_type": "code",
   "execution_count": 10,
   "metadata": {},
   "outputs": [
    {
     "data": {
      "text/html": [
       "<div style=\"width:100%;\"><div style=\"position:relative;width:100%;height:0;padding-bottom:60%;\"><iframe src=\"data:text/html;charset=utf-8;base64,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\" style=\"position:absolute;width:100%;height:100%;left:0;top:0;border:none !important;\" allowfullscreen webkitallowfullscreen mozallowfullscreen></iframe></div></div>"
      ],
      "text/plain": [
       "<folium.folium.Map at 0x1ab0c1950b8>"
      ]
     },
     "execution_count": 10,
     "metadata": {},
     "output_type": "execute_result"
    }
   ],
   "source": [
    "folium.Map(location=location , zoom_start=18)"
   ]
  }
 ],
 "metadata": {
  "kernelspec": {
   "display_name": "Python 3",
   "language": "python",
   "name": "python3"
  },
  "language_info": {
   "codemirror_mode": {
    "name": "ipython",
    "version": 3
   },
   "file_extension": ".py",
   "mimetype": "text/x-python",
   "name": "python",
   "nbconvert_exporter": "python",
   "pygments_lexer": "ipython3",
   "version": "3.6.2"
  }
 },
 "nbformat": 4,
 "nbformat_minor": 2
}

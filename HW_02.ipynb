{
 "cells": [
  {
   "cell_type": "code",
   "execution_count": 41,
   "metadata": {},
   "outputs": [
    {
     "name": "stdout",
     "output_type": "stream",
     "text": [
      "Hello world!\n",
      "This is Alice's greeting.\n",
      "This is Bob's greeting.\n",
      "42 plus 7 is equal to 49.\n",
      "foo\n",
      "==========\n",
      "Current working directory isD:\\Python\n",
      "I like to eat apples.\n",
      "I like to eat oranges.\n",
      "I like to eat cats.\n",
      "Count to ten:\n",
      "0\n",
      "1\n",
      "2\n",
      "3\n",
      "4\n",
      "5\n",
      "6\n",
      "7\n",
      "8\n",
      "9\n"
     ]
    }
   ],
   "source": [
    "#載入模組os\n",
    "import os\n",
    "\n",
    "#定義 foo       \n",
    "def foo(param1,secondParam):\n",
    "    res = param1 + secondParam\n",
    "    \n",
    "    print('%s plus %s is equal to %s.' % (param1,secondParam,res))\n",
    "    \n",
    "    if res < 50:\n",
    "        print('foo')\n",
    "        \n",
    "    elif (res >= 50) and ((param1 == 42) or (secondParam == 24)):\n",
    "        print('bar')\n",
    "    \n",
    "    else:\n",
    "        print('moo')\n",
    "    \n",
    "    return res  \n",
    "\n",
    "#定義 main\n",
    "def main():\n",
    "    print('Hello world!')\n",
    "    \n",
    "    print(\"This is Alice's greeting.\")  #字串中有 ' 可用 \" 包起來\n",
    "    print('This is Bob\\'s greeting.')   #字串中有 ' 可用 \\' 表示 \n",
    "    \n",
    "    foo(42,7)\n",
    "    \n",
    "    print('=' * 10)\n",
    "    print('Current working directory is' + os.getcwd())\n",
    "    \n",
    "    food=['apples','oranges','cats']\n",
    "    \n",
    "    for i in food:\n",
    "        print('I like to eat ' + i + '.')\n",
    "    \n",
    "    print('Count to ten:')\n",
    "    for i in range(10):\n",
    "        print(i)\n",
    "\n",
    "\n",
    "\n",
    "if __name__ == '__main__' :\n",
    "    main()"
   ]
  }
 ],
 "metadata": {
  "kernelspec": {
   "display_name": "Python 3",
   "language": "python",
   "name": "python3"
  },
  "language_info": {
   "codemirror_mode": {
    "name": "ipython",
    "version": 3
   },
   "file_extension": ".py",
   "mimetype": "text/x-python",
   "name": "python",
   "nbconvert_exporter": "python",
   "pygments_lexer": "ipython3",
   "version": "3.6.2"
  }
 },
 "nbformat": 4,
 "nbformat_minor": 2
}
